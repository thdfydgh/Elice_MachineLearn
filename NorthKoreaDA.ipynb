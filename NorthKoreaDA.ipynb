{
  "nbformat": 4,
  "nbformat_minor": 0,
  "metadata": {
    "colab": {
      "provenance": [],
      "authorship_tag": "ABX9TyP+o8/cuIRmEgjNeKZvEM8E",
      "include_colab_link": true
    },
    "kernelspec": {
      "name": "python3",
      "display_name": "Python 3"
    },
    "language_info": {
      "name": "python"
    }
  },
  "cells": [
    {
      "cell_type": "markdown",
      "metadata": {
        "id": "view-in-github",
        "colab_type": "text"
      },
      "source": [
        "<a href=\"https://colab.research.google.com/github/thdfydgh/Elice_MachineLearn/blob/main/NorthKoreaDA.ipynb\" target=\"_parent\"><img src=\"https://colab.research.google.com/assets/colab-badge.svg\" alt=\"Open In Colab\"/></a>"
      ]
    },
    {
      "cell_type": "markdown",
      "source": [
        "## 직접 군 복무중에 해보는 북한 기상 데이터 분석 - 시각화편"
      ],
      "metadata": {
        "id": "htbKNhOLGEsO"
      }
    },
    {
      "cell_type": "code",
      "source": [],
      "metadata": {
        "id": "fz2OsdP0GRXl"
      },
      "execution_count": null,
      "outputs": []
    }
  ]
}